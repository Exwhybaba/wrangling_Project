{
 "cells": [
  {
   "cell_type": "code",
   "execution_count": 1,
   "id": "941b302a",
   "metadata": {},
   "outputs": [],
   "source": [
    "import pandas as pd\n",
    "import numpy as np\n",
    "import seaborn as sb\n",
    "import warnings\n",
    "import matplotlib.pyplot as plt\n",
    "warnings.filterwarnings(\"ignore\")\n",
    "from numpy import set_printoptions\n",
    "import matplotlib.pyplot as plt\n",
    "from sklearn.preprocessing import MinMaxScaler, StandardScaler, Normalizer, LabelEncoder, OrdinalEncoder, LabelBinarizer\n",
    "from sklearn.impute import KNNImputer,SimpleImputer\n",
    "from sklearn.model_selection import train_test_split\n",
    "from sklearn.model_selection import KFold, cross_val_score, GridSearchCV\n",
    "from sklearn.svm import SVC, SVR\n",
    "from sklearn.metrics import mean_absolute_error\n",
    "from sklearn.linear_model import LinearRegression, Ridge, Lasso\n",
    "from sklearn.discriminant_analysis import LinearDiscriminantAnalysis\n",
    "from sklearn.neighbors import KNeighborsRegressor\n",
    "from sklearn.tree import DecisionTreeRegressor\n",
    "from sklearn.ensemble import RandomForestRegressor\n",
    "from sklearn.naive_bayes import GaussianNB\n",
    "from ipywidgets import Dropdown, FloatSlider, IntSlider, interact, fixed,interactive, fixed, interact_manual"
   ]
  },
  {
   "cell_type": "code",
   "execution_count": 2,
   "id": "0bc5c96a",
   "metadata": {},
   "outputs": [],
   "source": [
    "path = r\"C:\\Users\\Administrator\\Documents\\dataset\\Muskets_teamData_V2.csv\""
   ]
  },
  {
   "cell_type": "code",
   "execution_count": 3,
   "id": "cf2b8f14",
   "metadata": {},
   "outputs": [
    {
     "ename": "FileNotFoundError",
     "evalue": "[Errno 2] No such file or directory: 'C:\\\\Users\\\\Administrator\\\\Documents\\\\oneCampDataSet\\\\Muskets_teamData_V2.csv'",
     "output_type": "error",
     "traceback": [
      "\u001b[1;31m---------------------------------------------------------------------------\u001b[0m",
      "\u001b[1;31mFileNotFoundError\u001b[0m                         Traceback (most recent call last)",
      "Cell \u001b[1;32mIn[3], line 2\u001b[0m\n\u001b[0;32m      1\u001b[0m \u001b[38;5;66;03m#load the dataset into a dataframe\u001b[39;00m\n\u001b[1;32m----> 2\u001b[0m df \u001b[38;5;241m=\u001b[39m \u001b[43mpd\u001b[49m\u001b[38;5;241;43m.\u001b[39;49m\u001b[43mread_csv\u001b[49m\u001b[43m(\u001b[49m\u001b[43mpath\u001b[49m\u001b[43m)\u001b[49m\n\u001b[0;32m      4\u001b[0m \u001b[38;5;66;03m#peeking on the data\u001b[39;00m\n\u001b[0;32m      5\u001b[0m df\u001b[38;5;241m.\u001b[39mhead(\u001b[38;5;241m20\u001b[39m)\n",
      "File \u001b[1;32m~\\anaconda3\\lib\\site-packages\\pandas\\io\\parsers\\readers.py:912\u001b[0m, in \u001b[0;36mread_csv\u001b[1;34m(filepath_or_buffer, sep, delimiter, header, names, index_col, usecols, dtype, engine, converters, true_values, false_values, skipinitialspace, skiprows, skipfooter, nrows, na_values, keep_default_na, na_filter, verbose, skip_blank_lines, parse_dates, infer_datetime_format, keep_date_col, date_parser, date_format, dayfirst, cache_dates, iterator, chunksize, compression, thousands, decimal, lineterminator, quotechar, quoting, doublequote, escapechar, comment, encoding, encoding_errors, dialect, on_bad_lines, delim_whitespace, low_memory, memory_map, float_precision, storage_options, dtype_backend)\u001b[0m\n\u001b[0;32m    899\u001b[0m kwds_defaults \u001b[38;5;241m=\u001b[39m _refine_defaults_read(\n\u001b[0;32m    900\u001b[0m     dialect,\n\u001b[0;32m    901\u001b[0m     delimiter,\n\u001b[1;32m   (...)\u001b[0m\n\u001b[0;32m    908\u001b[0m     dtype_backend\u001b[38;5;241m=\u001b[39mdtype_backend,\n\u001b[0;32m    909\u001b[0m )\n\u001b[0;32m    910\u001b[0m kwds\u001b[38;5;241m.\u001b[39mupdate(kwds_defaults)\n\u001b[1;32m--> 912\u001b[0m \u001b[38;5;28;01mreturn\u001b[39;00m \u001b[43m_read\u001b[49m\u001b[43m(\u001b[49m\u001b[43mfilepath_or_buffer\u001b[49m\u001b[43m,\u001b[49m\u001b[43m \u001b[49m\u001b[43mkwds\u001b[49m\u001b[43m)\u001b[49m\n",
      "File \u001b[1;32m~\\anaconda3\\lib\\site-packages\\pandas\\io\\parsers\\readers.py:577\u001b[0m, in \u001b[0;36m_read\u001b[1;34m(filepath_or_buffer, kwds)\u001b[0m\n\u001b[0;32m    574\u001b[0m _validate_names(kwds\u001b[38;5;241m.\u001b[39mget(\u001b[38;5;124m\"\u001b[39m\u001b[38;5;124mnames\u001b[39m\u001b[38;5;124m\"\u001b[39m, \u001b[38;5;28;01mNone\u001b[39;00m))\n\u001b[0;32m    576\u001b[0m \u001b[38;5;66;03m# Create the parser.\u001b[39;00m\n\u001b[1;32m--> 577\u001b[0m parser \u001b[38;5;241m=\u001b[39m TextFileReader(filepath_or_buffer, \u001b[38;5;241m*\u001b[39m\u001b[38;5;241m*\u001b[39mkwds)\n\u001b[0;32m    579\u001b[0m \u001b[38;5;28;01mif\u001b[39;00m chunksize \u001b[38;5;129;01mor\u001b[39;00m iterator:\n\u001b[0;32m    580\u001b[0m     \u001b[38;5;28;01mreturn\u001b[39;00m parser\n",
      "File \u001b[1;32m~\\anaconda3\\lib\\site-packages\\pandas\\io\\parsers\\readers.py:1407\u001b[0m, in \u001b[0;36mTextFileReader.__init__\u001b[1;34m(self, f, engine, **kwds)\u001b[0m\n\u001b[0;32m   1404\u001b[0m     \u001b[38;5;28mself\u001b[39m\u001b[38;5;241m.\u001b[39moptions[\u001b[38;5;124m\"\u001b[39m\u001b[38;5;124mhas_index_names\u001b[39m\u001b[38;5;124m\"\u001b[39m] \u001b[38;5;241m=\u001b[39m kwds[\u001b[38;5;124m\"\u001b[39m\u001b[38;5;124mhas_index_names\u001b[39m\u001b[38;5;124m\"\u001b[39m]\n\u001b[0;32m   1406\u001b[0m \u001b[38;5;28mself\u001b[39m\u001b[38;5;241m.\u001b[39mhandles: IOHandles \u001b[38;5;241m|\u001b[39m \u001b[38;5;28;01mNone\u001b[39;00m \u001b[38;5;241m=\u001b[39m \u001b[38;5;28;01mNone\u001b[39;00m\n\u001b[1;32m-> 1407\u001b[0m \u001b[38;5;28mself\u001b[39m\u001b[38;5;241m.\u001b[39m_engine \u001b[38;5;241m=\u001b[39m \u001b[38;5;28;43mself\u001b[39;49m\u001b[38;5;241;43m.\u001b[39;49m\u001b[43m_make_engine\u001b[49m\u001b[43m(\u001b[49m\u001b[43mf\u001b[49m\u001b[43m,\u001b[49m\u001b[43m \u001b[49m\u001b[38;5;28;43mself\u001b[39;49m\u001b[38;5;241;43m.\u001b[39;49m\u001b[43mengine\u001b[49m\u001b[43m)\u001b[49m\n",
      "File \u001b[1;32m~\\anaconda3\\lib\\site-packages\\pandas\\io\\parsers\\readers.py:1661\u001b[0m, in \u001b[0;36mTextFileReader._make_engine\u001b[1;34m(self, f, engine)\u001b[0m\n\u001b[0;32m   1659\u001b[0m     \u001b[38;5;28;01mif\u001b[39;00m \u001b[38;5;124m\"\u001b[39m\u001b[38;5;124mb\u001b[39m\u001b[38;5;124m\"\u001b[39m \u001b[38;5;129;01mnot\u001b[39;00m \u001b[38;5;129;01min\u001b[39;00m mode:\n\u001b[0;32m   1660\u001b[0m         mode \u001b[38;5;241m+\u001b[39m\u001b[38;5;241m=\u001b[39m \u001b[38;5;124m\"\u001b[39m\u001b[38;5;124mb\u001b[39m\u001b[38;5;124m\"\u001b[39m\n\u001b[1;32m-> 1661\u001b[0m \u001b[38;5;28mself\u001b[39m\u001b[38;5;241m.\u001b[39mhandles \u001b[38;5;241m=\u001b[39m \u001b[43mget_handle\u001b[49m\u001b[43m(\u001b[49m\n\u001b[0;32m   1662\u001b[0m \u001b[43m    \u001b[49m\u001b[43mf\u001b[49m\u001b[43m,\u001b[49m\n\u001b[0;32m   1663\u001b[0m \u001b[43m    \u001b[49m\u001b[43mmode\u001b[49m\u001b[43m,\u001b[49m\n\u001b[0;32m   1664\u001b[0m \u001b[43m    \u001b[49m\u001b[43mencoding\u001b[49m\u001b[38;5;241;43m=\u001b[39;49m\u001b[38;5;28;43mself\u001b[39;49m\u001b[38;5;241;43m.\u001b[39;49m\u001b[43moptions\u001b[49m\u001b[38;5;241;43m.\u001b[39;49m\u001b[43mget\u001b[49m\u001b[43m(\u001b[49m\u001b[38;5;124;43m\"\u001b[39;49m\u001b[38;5;124;43mencoding\u001b[39;49m\u001b[38;5;124;43m\"\u001b[39;49m\u001b[43m,\u001b[49m\u001b[43m \u001b[49m\u001b[38;5;28;43;01mNone\u001b[39;49;00m\u001b[43m)\u001b[49m\u001b[43m,\u001b[49m\n\u001b[0;32m   1665\u001b[0m \u001b[43m    \u001b[49m\u001b[43mcompression\u001b[49m\u001b[38;5;241;43m=\u001b[39;49m\u001b[38;5;28;43mself\u001b[39;49m\u001b[38;5;241;43m.\u001b[39;49m\u001b[43moptions\u001b[49m\u001b[38;5;241;43m.\u001b[39;49m\u001b[43mget\u001b[49m\u001b[43m(\u001b[49m\u001b[38;5;124;43m\"\u001b[39;49m\u001b[38;5;124;43mcompression\u001b[39;49m\u001b[38;5;124;43m\"\u001b[39;49m\u001b[43m,\u001b[49m\u001b[43m \u001b[49m\u001b[38;5;28;43;01mNone\u001b[39;49;00m\u001b[43m)\u001b[49m\u001b[43m,\u001b[49m\n\u001b[0;32m   1666\u001b[0m \u001b[43m    \u001b[49m\u001b[43mmemory_map\u001b[49m\u001b[38;5;241;43m=\u001b[39;49m\u001b[38;5;28;43mself\u001b[39;49m\u001b[38;5;241;43m.\u001b[39;49m\u001b[43moptions\u001b[49m\u001b[38;5;241;43m.\u001b[39;49m\u001b[43mget\u001b[49m\u001b[43m(\u001b[49m\u001b[38;5;124;43m\"\u001b[39;49m\u001b[38;5;124;43mmemory_map\u001b[39;49m\u001b[38;5;124;43m\"\u001b[39;49m\u001b[43m,\u001b[49m\u001b[43m \u001b[49m\u001b[38;5;28;43;01mFalse\u001b[39;49;00m\u001b[43m)\u001b[49m\u001b[43m,\u001b[49m\n\u001b[0;32m   1667\u001b[0m \u001b[43m    \u001b[49m\u001b[43mis_text\u001b[49m\u001b[38;5;241;43m=\u001b[39;49m\u001b[43mis_text\u001b[49m\u001b[43m,\u001b[49m\n\u001b[0;32m   1668\u001b[0m \u001b[43m    \u001b[49m\u001b[43merrors\u001b[49m\u001b[38;5;241;43m=\u001b[39;49m\u001b[38;5;28;43mself\u001b[39;49m\u001b[38;5;241;43m.\u001b[39;49m\u001b[43moptions\u001b[49m\u001b[38;5;241;43m.\u001b[39;49m\u001b[43mget\u001b[49m\u001b[43m(\u001b[49m\u001b[38;5;124;43m\"\u001b[39;49m\u001b[38;5;124;43mencoding_errors\u001b[39;49m\u001b[38;5;124;43m\"\u001b[39;49m\u001b[43m,\u001b[49m\u001b[43m \u001b[49m\u001b[38;5;124;43m\"\u001b[39;49m\u001b[38;5;124;43mstrict\u001b[39;49m\u001b[38;5;124;43m\"\u001b[39;49m\u001b[43m)\u001b[49m\u001b[43m,\u001b[49m\n\u001b[0;32m   1669\u001b[0m \u001b[43m    \u001b[49m\u001b[43mstorage_options\u001b[49m\u001b[38;5;241;43m=\u001b[39;49m\u001b[38;5;28;43mself\u001b[39;49m\u001b[38;5;241;43m.\u001b[39;49m\u001b[43moptions\u001b[49m\u001b[38;5;241;43m.\u001b[39;49m\u001b[43mget\u001b[49m\u001b[43m(\u001b[49m\u001b[38;5;124;43m\"\u001b[39;49m\u001b[38;5;124;43mstorage_options\u001b[39;49m\u001b[38;5;124;43m\"\u001b[39;49m\u001b[43m,\u001b[49m\u001b[43m \u001b[49m\u001b[38;5;28;43;01mNone\u001b[39;49;00m\u001b[43m)\u001b[49m\u001b[43m,\u001b[49m\n\u001b[0;32m   1670\u001b[0m \u001b[43m\u001b[49m\u001b[43m)\u001b[49m\n\u001b[0;32m   1671\u001b[0m \u001b[38;5;28;01massert\u001b[39;00m \u001b[38;5;28mself\u001b[39m\u001b[38;5;241m.\u001b[39mhandles \u001b[38;5;129;01mis\u001b[39;00m \u001b[38;5;129;01mnot\u001b[39;00m \u001b[38;5;28;01mNone\u001b[39;00m\n\u001b[0;32m   1672\u001b[0m f \u001b[38;5;241m=\u001b[39m \u001b[38;5;28mself\u001b[39m\u001b[38;5;241m.\u001b[39mhandles\u001b[38;5;241m.\u001b[39mhandle\n",
      "File \u001b[1;32m~\\anaconda3\\lib\\site-packages\\pandas\\io\\common.py:859\u001b[0m, in \u001b[0;36mget_handle\u001b[1;34m(path_or_buf, mode, encoding, compression, memory_map, is_text, errors, storage_options)\u001b[0m\n\u001b[0;32m    854\u001b[0m \u001b[38;5;28;01melif\u001b[39;00m \u001b[38;5;28misinstance\u001b[39m(handle, \u001b[38;5;28mstr\u001b[39m):\n\u001b[0;32m    855\u001b[0m     \u001b[38;5;66;03m# Check whether the filename is to be opened in binary mode.\u001b[39;00m\n\u001b[0;32m    856\u001b[0m     \u001b[38;5;66;03m# Binary mode does not support 'encoding' and 'newline'.\u001b[39;00m\n\u001b[0;32m    857\u001b[0m     \u001b[38;5;28;01mif\u001b[39;00m ioargs\u001b[38;5;241m.\u001b[39mencoding \u001b[38;5;129;01mand\u001b[39;00m \u001b[38;5;124m\"\u001b[39m\u001b[38;5;124mb\u001b[39m\u001b[38;5;124m\"\u001b[39m \u001b[38;5;129;01mnot\u001b[39;00m \u001b[38;5;129;01min\u001b[39;00m ioargs\u001b[38;5;241m.\u001b[39mmode:\n\u001b[0;32m    858\u001b[0m         \u001b[38;5;66;03m# Encoding\u001b[39;00m\n\u001b[1;32m--> 859\u001b[0m         handle \u001b[38;5;241m=\u001b[39m \u001b[38;5;28;43mopen\u001b[39;49m\u001b[43m(\u001b[49m\n\u001b[0;32m    860\u001b[0m \u001b[43m            \u001b[49m\u001b[43mhandle\u001b[49m\u001b[43m,\u001b[49m\n\u001b[0;32m    861\u001b[0m \u001b[43m            \u001b[49m\u001b[43mioargs\u001b[49m\u001b[38;5;241;43m.\u001b[39;49m\u001b[43mmode\u001b[49m\u001b[43m,\u001b[49m\n\u001b[0;32m    862\u001b[0m \u001b[43m            \u001b[49m\u001b[43mencoding\u001b[49m\u001b[38;5;241;43m=\u001b[39;49m\u001b[43mioargs\u001b[49m\u001b[38;5;241;43m.\u001b[39;49m\u001b[43mencoding\u001b[49m\u001b[43m,\u001b[49m\n\u001b[0;32m    863\u001b[0m \u001b[43m            \u001b[49m\u001b[43merrors\u001b[49m\u001b[38;5;241;43m=\u001b[39;49m\u001b[43merrors\u001b[49m\u001b[43m,\u001b[49m\n\u001b[0;32m    864\u001b[0m \u001b[43m            \u001b[49m\u001b[43mnewline\u001b[49m\u001b[38;5;241;43m=\u001b[39;49m\u001b[38;5;124;43m\"\u001b[39;49m\u001b[38;5;124;43m\"\u001b[39;49m\u001b[43m,\u001b[49m\n\u001b[0;32m    865\u001b[0m \u001b[43m        \u001b[49m\u001b[43m)\u001b[49m\n\u001b[0;32m    866\u001b[0m     \u001b[38;5;28;01melse\u001b[39;00m:\n\u001b[0;32m    867\u001b[0m         \u001b[38;5;66;03m# Binary mode\u001b[39;00m\n\u001b[0;32m    868\u001b[0m         handle \u001b[38;5;241m=\u001b[39m \u001b[38;5;28mopen\u001b[39m(handle, ioargs\u001b[38;5;241m.\u001b[39mmode)\n",
      "\u001b[1;31mFileNotFoundError\u001b[0m: [Errno 2] No such file or directory: 'C:\\\\Users\\\\Administrator\\\\Documents\\\\oneCampDataSet\\\\Muskets_teamData_V2.csv'"
     ]
    }
   ],
   "source": [
    "#load the dataset into a dataframe\n",
    "df = pd.read_csv(path)\n",
    "\n",
    "#peeking on the data\n",
    "df.head(20)"
   ]
  },
  {
   "cell_type": "code",
   "execution_count": null,
   "id": "3d9c932d",
   "metadata": {},
   "outputs": [],
   "source": [
    "PlayerName = df.playerUrl.str.split('/', expand= True)[5].apply(lambda x: x.replace('-', ' ').title())\n",
    "df['PlayerName'] = PlayerName\n",
    "df"
   ]
  },
  {
   "cell_type": "markdown",
   "id": "46678fe6",
   "metadata": {},
   "source": [
    "## Reforming the Data"
   ]
  },
  {
   "cell_type": "code",
   "execution_count": null,
   "id": "2c3cd4c1",
   "metadata": {},
   "outputs": [],
   "source": [
    "df.shape"
   ]
  },
  {
   "cell_type": "code",
   "execution_count": null,
   "id": "a12fa29b",
   "metadata": {},
   "outputs": [],
   "source": [
    "df2 = df.copy()"
   ]
  },
  {
   "cell_type": "code",
   "execution_count": null,
   "id": "ec8d7b72",
   "metadata": {},
   "outputs": [],
   "source": [
    "#Create a new column titled Player Status from the CONTRACT column with 3 labels ; 'Active','Free', 'On Loan'\n",
    "Status = []\n",
    "for i in df2['Contract']:\n",
    "    if 'Free' in i:\n",
    "        Status.append('Free')\n",
    "    elif 'On Loan' in i:\n",
    "        Status.append('On Loan')\n",
    "    else:\n",
    "        Status.append('Active')\n",
    "df2['Player Status'] = Status\n",
    "\n",
    "    "
   ]
  },
  {
   "cell_type": "code",
   "execution_count": null,
   "id": "4e49832a",
   "metadata": {},
   "outputs": [],
   "source": [
    "df2.head(20)"
   ]
  },
  {
   "cell_type": "code",
   "execution_count": null,
   "id": "dc0c18cf",
   "metadata": {},
   "outputs": [],
   "source": [
    "#convert the rows into a set of unique values\n",
    "position = [pos.split(',') for pos in df2.Positions.values]\n",
    "position = [item.strip() for sublist in position for item in sublist]\n",
    "position = set(position)\n",
    "print(\"unique values\", position)\n",
    "\n",
    "print('----------------------------------------------------------------------------------------------------------------')\n",
    "#create new columns using the set of unique value\n",
    "for i in position:\n",
    "    df2[i] = np.nan\n",
    "df2"
   ]
  },
  {
   "cell_type": "code",
   "execution_count": null,
   "id": "640fea99",
   "metadata": {},
   "outputs": [],
   "source": [
    "#Removing \\n\\n\\n\\n from Club column\n",
    "df2.loc[df2['Club'].str.contains('\\n\\n\\n\\n'), 'Club'] = df2['Club'].str.replace('\\n\\n\\n\\n', '')"
   ]
  },
  {
   "cell_type": "code",
   "execution_count": null,
   "id": "4cf5e07d",
   "metadata": {},
   "outputs": [],
   "source": [
    "df2"
   ]
  },
  {
   "cell_type": "code",
   "execution_count": null,
   "id": "8c74cb83",
   "metadata": {},
   "outputs": [],
   "source": [
    "#iterate through each Position column and validate if unique value is present, if present ascribe True else False\n",
    "posi = ['LWB', 'RW', 'LW', 'RB', 'CM', 'CF', 'CB', 'LM', 'CAM','RWB', 'LB', 'GK', 'ST', 'CDM', 'RM']\n",
    "for u in posi:\n",
    "    df2[u] = df2.Positions.apply(lambda x: u in x)\n",
    "df2[posi] = df2[posi].fillna(False)\n",
    "df2[posi].head(10)"
   ]
  },
  {
   "cell_type": "code",
   "execution_count": null,
   "id": "1239bd56",
   "metadata": {},
   "outputs": [],
   "source": [
    "df2.Positions"
   ]
  },
  {
   "cell_type": "code",
   "execution_count": null,
   "id": "ec1ac092",
   "metadata": {},
   "outputs": [],
   "source": [
    "df2.info()"
   ]
  },
  {
   "cell_type": "code",
   "execution_count": null,
   "id": "cfd35779",
   "metadata": {},
   "outputs": [],
   "source": [
    "df2['Height'] = df2['Height'].map(lambda x: x[:-2].strip())\n",
    "df2['Height'].unique()"
   ]
  },
  {
   "cell_type": "code",
   "execution_count": null,
   "id": "938efee0",
   "metadata": {},
   "outputs": [],
   "source": [
    "df2['Height'].replace([\"6'\", \"5'1\", \"5'\"], [\"183\", '155', '152'], inplace=True)\n",
    "df2['Height'].unique()"
   ]
  },
  {
   "cell_type": "code",
   "execution_count": null,
   "id": "a3a50ba4",
   "metadata": {},
   "outputs": [],
   "source": [
    "df2['Height'] = df2['Height'].astype(int)\n",
    "df2['Height'].dtype"
   ]
  },
  {
   "cell_type": "code",
   "execution_count": null,
   "id": "c47227d7",
   "metadata": {},
   "outputs": [],
   "source": [
    "df2['Weight'].unique()"
   ]
  },
  {
   "cell_type": "code",
   "execution_count": null,
   "id": "5fc99d92",
   "metadata": {},
   "outputs": [],
   "source": [
    "df2['Weight'].replace(['179lbs', '183lbs', '196lbs', '170lbs', '172lbs',\n",
    "       '203lbs', '168lbs', '161lbs', '146lbs', '130lbs', '174lbs',\n",
    "       '148lbs', '165lbs', '192lbs', '181lbs', '139lbs', '154lbs',\n",
    "       '157lbs', '163lbs','176lbs', '185lbs', '190lbs', '159lbs', np.nan], ['81kg', '83kg', '89kg', \n",
    "                                                                    '77kg','78kg', '92kg', \n",
    "                                                                    '76kg', '73kg', '66kg', \n",
    "                                                                    '59kg', '79kg', '67kg',\n",
    "                                                                    '75kg','87kg', '82kg', \n",
    "                                                                    '63kg', '70kg', '71kg', \n",
    "                                                                    '74kg', '80kg', '84kg', \n",
    "                                                                    '86kg', '72kg','0kg'], inplace=True)"
   ]
  },
  {
   "cell_type": "code",
   "execution_count": null,
   "id": "ff8f6aac",
   "metadata": {},
   "outputs": [],
   "source": [
    "df2['Weight'] = df2['Weight'].astype(str)\n",
    "df2['Weight'] = df2['Weight'].apply(lambda x:x[:-2])\n",
    "df2['Weight'].unique()"
   ]
  },
  {
   "cell_type": "code",
   "execution_count": null,
   "id": "3bc41ccb",
   "metadata": {},
   "outputs": [],
   "source": [
    "df2['Weight'] = df2['Weight'].astype(int)\n",
    "df2['Weight'].dtype"
   ]
  },
  {
   "cell_type": "code",
   "execution_count": null,
   "id": "95646abb",
   "metadata": {},
   "outputs": [],
   "source": [
    "df2['W/F'].unique()"
   ]
  },
  {
   "cell_type": "code",
   "execution_count": null,
   "id": "c3e9ce84",
   "metadata": {},
   "outputs": [],
   "source": [
    "df2['W/F'].replace(['4 ★', '3 ★', '5 ★', '2 ★', '1 ★'],[4,3,5,2,1], inplace=True)\n",
    "df2['W/F'].astype(int)\n",
    "df2['W/F'].dtype"
   ]
  },
  {
   "cell_type": "code",
   "execution_count": null,
   "id": "6e100301",
   "metadata": {},
   "outputs": [],
   "source": [
    "df2['SM'].unique()"
   ]
  },
  {
   "cell_type": "code",
   "execution_count": null,
   "id": "f97d5a4f",
   "metadata": {},
   "outputs": [],
   "source": [
    "df2['SM'].replace(['4★', '1★', '5★', '2★', '3★'],[4,1,5,2,3], inplace=True)\n",
    "df2['SM'].astype(int)\n",
    "df2['SM'].dtype"
   ]
  },
  {
   "cell_type": "code",
   "execution_count": null,
   "id": "615079e9",
   "metadata": {},
   "outputs": [],
   "source": [
    "df2['IR'].unique()"
   ]
  },
  {
   "cell_type": "code",
   "execution_count": null,
   "id": "18a71e4c",
   "metadata": {},
   "outputs": [],
   "source": [
    "df2['IR'].replace(['5 ★', '3 ★', '4 ★', '2 ★', '1 ★'],[5,3,4,2,1], inplace=True)\n",
    "df2['IR'].astype(int)\n",
    "df2['IR'].dtype"
   ]
  },
  {
   "cell_type": "code",
   "execution_count": null,
   "id": "76ae5c67",
   "metadata": {},
   "outputs": [],
   "source": [
    "df2['Value'].unique()"
   ]
  },
  {
   "cell_type": "code",
   "execution_count": null,
   "id": "1b7ab7c0",
   "metadata": {},
   "outputs": [],
   "source": [
    "df2.Value = df2.Value.map(lambda x: float(x[1:-1])*10**6 if 'M' in x else x)\n",
    "df2.Value = df2.Value.astype(str)\n",
    "df2.Value = df2.Value.map(lambda x:x[1:-1] if 'K' in x else x)\n",
    "df2.Value.unique()"
   ]
  },
  {
   "cell_type": "code",
   "execution_count": null,
   "id": "aed0fcc1",
   "metadata": {},
   "outputs": [],
   "source": [
    "df2.Value.replace('€0', '0', inplace=True)\n",
    "df2.Value = df2.Value.astype('float32')\n",
    "df2.Value.dtype"
   ]
  },
  {
   "cell_type": "code",
   "execution_count": null,
   "id": "f743484c",
   "metadata": {},
   "outputs": [],
   "source": [
    "df2['Wage'].unique() "
   ]
  },
  {
   "cell_type": "code",
   "execution_count": null,
   "id": "f97759de",
   "metadata": {},
   "outputs": [],
   "source": [
    "df2.Wage = df2.Wage.map(lambda x: float(x[1:-1])*10**3 if 'K' in x else x)\n",
    "df2.Wage.unique()"
   ]
  },
  {
   "cell_type": "code",
   "execution_count": null,
   "id": "95011cb8",
   "metadata": {},
   "outputs": [],
   "source": [
    "df2.Wage = df2.Wage.astype('str')\n",
    "df2.Wage"
   ]
  },
  {
   "cell_type": "code",
   "execution_count": null,
   "id": "2555c658",
   "metadata": {},
   "outputs": [],
   "source": [
    "df2.Wage = df2.Wage.map(lambda x: x[1:] if '€' in x else x)\n",
    "df2.Wage.unique()"
   ]
  },
  {
   "cell_type": "code",
   "execution_count": null,
   "id": "c7348ca6",
   "metadata": {},
   "outputs": [],
   "source": [
    "df2.Wage = df2.Wage.astype('float32')\n",
    "df2.Wage.dtype"
   ]
  },
  {
   "cell_type": "code",
   "execution_count": null,
   "id": "05c70526",
   "metadata": {},
   "outputs": [],
   "source": [
    "clause = [v for v in df2['Release Clause'].unique()]\n",
    "clause"
   ]
  },
  {
   "cell_type": "code",
   "execution_count": null,
   "id": "042ad6c1",
   "metadata": {},
   "outputs": [],
   "source": [
    "len(clause)"
   ]
  },
  {
   "cell_type": "code",
   "execution_count": null,
   "id": "be31f22f",
   "metadata": {},
   "outputs": [],
   "source": [
    "'€0' in clause"
   ]
  },
  {
   "cell_type": "code",
   "execution_count": null,
   "id": "41d1f950",
   "metadata": {},
   "outputs": [],
   "source": [
    "df2['Release Clause'] = df2['Release Clause'].astype(str)\n",
    "df2['Release Clause'] = df2['Release Clause'].map(lambda x: round(float(x[1:-1])*10**6) if 'M' in x else x)\n",
    "df2['Release Clause'].unique()"
   ]
  },
  {
   "cell_type": "code",
   "execution_count": null,
   "id": "26b4a233",
   "metadata": {},
   "outputs": [],
   "source": [
    "df2['Release Clause'] = df2['Release Clause'].astype(str)\n",
    "df2['Release Clause'] = df2['Release Clause'].map(lambda x:x[1:-1] if 'K' in x else x)"
   ]
  },
  {
   "cell_type": "code",
   "execution_count": null,
   "id": "f5cd16a9",
   "metadata": {},
   "outputs": [],
   "source": [
    "df2['Release Clause'].unique()"
   ]
  },
  {
   "cell_type": "code",
   "execution_count": null,
   "id": "59ee4038",
   "metadata": {},
   "outputs": [],
   "source": [
    "df2['Release Clause'].replace('€0', '0', inplace=True)\n",
    "df2['Release Clause'] = df2['Release Clause'].astype('float32')"
   ]
  },
  {
   "cell_type": "code",
   "execution_count": null,
   "id": "ff93e563",
   "metadata": {},
   "outputs": [],
   "source": [
    "#Inspect the HITS column and ensure its float \n",
    "df2.Hits.dtype"
   ]
  },
  {
   "cell_type": "code",
   "execution_count": null,
   "id": "e3e38f67",
   "metadata": {},
   "outputs": [],
   "source": [
    "df2.Hits.unique()"
   ]
  },
  {
   "cell_type": "code",
   "execution_count": null,
   "id": "2641eadd",
   "metadata": {},
   "outputs": [],
   "source": [
    "df2['Hits'].isna().sum()"
   ]
  },
  {
   "cell_type": "code",
   "execution_count": null,
   "id": "f44ba313",
   "metadata": {},
   "outputs": [],
   "source": [
    "df2.Hits = df2.Hits.astype(str)\n",
    "df2.Hits = df2.Hits.map(lambda x: float(x[:-1])*10**3 if 'K' in x else x)\n",
    "df2.Hits.unique()"
   ]
  },
  {
   "cell_type": "code",
   "execution_count": null,
   "id": "94e70c7a",
   "metadata": {},
   "outputs": [],
   "source": [
    "df2.Hits = df2.Hits.astype(float)"
   ]
  },
  {
   "cell_type": "code",
   "execution_count": null,
   "id": "178703bc-0221-49e8-9f1a-24b370738dd0",
   "metadata": {},
   "outputs": [],
   "source": [
    "df2['Short Passing'].unique()"
   ]
  },
  {
   "cell_type": "code",
   "execution_count": null,
   "id": "6786c18d",
   "metadata": {},
   "outputs": [],
   "source": [
    "df2['Short Passing'].replace(['69_','69'], inplace=True)\n",
    "# Convert the 'Short Passing' column to numeric values\n",
    "df2['Short Passing'] = pd.to_numeric(df2['Short Passing'], errors='coerce')\n",
    "df2['Short Passing'].dtype"
   ]
  },
  {
   "cell_type": "code",
   "execution_count": null,
   "id": "8427d11c-adbe-40c9-ba83-b58bf3dda153",
   "metadata": {},
   "outputs": [],
   "source": [
    "df2['Short Passing'].unique()"
   ]
  },
  {
   "cell_type": "code",
   "execution_count": null,
   "id": "e1052c93",
   "metadata": {},
   "outputs": [],
   "source": [
    "df2['Dribbling'].replace('70_', '70', inplace=True)\n",
    "df2['Dribbling'] = pd.to_numeric(df2['Dribbling'], errors='coerce')\n",
    "df2['Dribbling'].dtype"
   ]
  },
  {
   "cell_type": "code",
   "execution_count": null,
   "id": "23f936bf",
   "metadata": {},
   "outputs": [],
   "source": [
    "df2['Joined'] = pd.to_datetime(df2['Joined'], format='mixed', dayfirst=True)"
   ]
  },
  {
   "cell_type": "code",
   "execution_count": null,
   "id": "c0f7b0b8",
   "metadata": {},
   "outputs": [],
   "source": [
    "df2['Loan Date End'] = pd.to_datetime(df2['Loan Date End'], format='mixed', dayfirst=True)\n"
   ]
  },
  {
   "cell_type": "code",
   "execution_count": null,
   "id": "b88b2186",
   "metadata": {},
   "outputs": [],
   "source": [
    "df2.loc[~df2['Loan Date End'].isna()]['Loan Date End']"
   ]
  },
  {
   "cell_type": "code",
   "execution_count": null,
   "id": "3c5b512a",
   "metadata": {},
   "outputs": [],
   "source": [
    "df2.info()"
   ]
  },
  {
   "cell_type": "code",
   "execution_count": null,
   "id": "3fed1687",
   "metadata": {},
   "outputs": [],
   "source": [
    "df2.Height.max()"
   ]
  },
  {
   "cell_type": "code",
   "execution_count": null,
   "id": "edbbcc69",
   "metadata": {},
   "outputs": [],
   "source": [
    "df2.Height.min()"
   ]
  },
  {
   "cell_type": "code",
   "execution_count": null,
   "id": "10317894",
   "metadata": {},
   "outputs": [],
   "source": [
    "labels = ['150-160', '160-170', '170-180', '180-190', '190-200', '200+']\n",
    "df2['Height_cate(CM)'] = pd.cut(df2['Height'], bins = [150, 160, 170, 180, 190, 200, 210], labels = labels)"
   ]
  },
  {
   "cell_type": "code",
   "execution_count": null,
   "id": "219a9c1a",
   "metadata": {},
   "outputs": [],
   "source": [
    "df2[['Height','Height_cate(CM)']]"
   ]
  },
  {
   "cell_type": "code",
   "execution_count": null,
   "id": "06b45473",
   "metadata": {},
   "outputs": [],
   "source": [
    "print('max', df2.Weight.max())\n",
    "print('min', df2.Weight.min())"
   ]
  },
  {
   "cell_type": "code",
   "execution_count": null,
   "id": "9e4aad13",
   "metadata": {},
   "outputs": [],
   "source": [
    "labels = ['0-10', '10-20', '20-30', '30-40', '40-50', '50-60',\n",
    "          '60-70', '70-80', '80-90', '90-100', '100+']\n",
    "df2['Weight_cate(KG)'] = pd.cut(df2['Weight'], bins = [0,10,20,30,40,50,60,70,80,90,100,110], \n",
    "                         labels = labels)"
   ]
  },
  {
   "cell_type": "code",
   "execution_count": null,
   "id": "5d734605",
   "metadata": {},
   "outputs": [],
   "source": [
    "df2[['Weight', 'Weight_cate(KG)']]"
   ]
  },
  {
   "cell_type": "code",
   "execution_count": null,
   "id": "b7de8f91",
   "metadata": {},
   "outputs": [],
   "source": [
    "print('max', df2.Wage.max())\n",
    "print('min', df2.Wage.min())"
   ]
  },
  {
   "cell_type": "code",
   "execution_count": null,
   "id": "52753c8f",
   "metadata": {},
   "outputs": [],
   "source": [
    "df2.Wage.isna().sum()"
   ]
  },
  {
   "cell_type": "code",
   "execution_count": null,
   "id": "62c2146d",
   "metadata": {},
   "outputs": [],
   "source": [
    "labels = ['0-50', '50-100', '100-150', '150-200', '200-250', '250-300', \n",
    "          '300-350', '350-400', '400-450', '450-500', '500+']\n",
    "df2['Wage_category(K)'] = pd.cut(df2['Wage'], bins=[-np.inf, 50*10**3, 100*10**3, 150*10**3, 200*10**3, 250*10**3, 300*10**3, 350*10**3, 400*10**3, 450*10**3,500*10**3, np.inf], labels=labels)\n",
    "df2[['Wage_category(K)', 'Wage']]"
   ]
  },
  {
   "cell_type": "code",
   "execution_count": null,
   "id": "639936c7",
   "metadata": {},
   "outputs": [],
   "source": [
    "df2['Wage_category(K)'].unique()"
   ]
  },
  {
   "cell_type": "code",
   "execution_count": null,
   "id": "61c50716",
   "metadata": {},
   "outputs": [],
   "source": [
    "print('max', df2.Value.max())\n",
    "print('min', df2.Value.min())"
   ]
  },
  {
   "cell_type": "code",
   "execution_count": null,
   "id": "71419b1b",
   "metadata": {},
   "outputs": [],
   "source": [
    "labels = ['0-50', '50-100', '100-150', '150+']\n",
    "df2['Value_category(M)'] = pd.cut(df2['Value'], \n",
    "                                    bins = [-np.inf, 50*10**6, 100*10**6, 150*10**6, np.inf], \n",
    "                         labels=labels)"
   ]
  },
  {
   "cell_type": "code",
   "execution_count": null,
   "id": "c0b6dbb2",
   "metadata": {},
   "outputs": [],
   "source": [
    "df2[['Value', 'Value_category(M)']]"
   ]
  },
  {
   "cell_type": "code",
   "execution_count": null,
   "id": "718b44e0",
   "metadata": {},
   "outputs": [],
   "source": [
    "df2['Value_category(M)'].unique()"
   ]
  },
  {
   "cell_type": "code",
   "execution_count": null,
   "id": "9d191408",
   "metadata": {},
   "outputs": [],
   "source": [
    "print('max', df2['Release Clause'].max())\n",
    "print('min', df2['Release Clause'].min())"
   ]
  },
  {
   "cell_type": "code",
   "execution_count": null,
   "id": "7b033dca",
   "metadata": {},
   "outputs": [],
   "source": [
    "labels = ['0-50', '50-100', '100-150', '150-200', '200+']\n",
    "df2['Release Clause_Category(M)'] = pd.cut(df2['Release Clause'], \n",
    "                                    bins=[-np.inf, 50*10**6, 100*10**6,\n",
    "                                            150*10**6, 200*10**6, np.inf], labels=labels)\n",
    "df2[['Release Clause', 'Release Clause_Category(M)']]\n"
   ]
  },
  {
   "cell_type": "code",
   "execution_count": null,
   "id": "f8c67945",
   "metadata": {},
   "outputs": [],
   "source": [
    "df2['Release Clause_Category(M)'].unique()"
   ]
  },
  {
   "cell_type": "code",
   "execution_count": null,
   "id": "ddc0026c",
   "metadata": {},
   "outputs": [],
   "source": [
    "df2[pd.isnull(df2['Release Clause_Category(M)'])][['Release Clause', 'Release Clause_Category(M)']]\n",
    "\n"
   ]
  },
  {
   "cell_type": "code",
   "execution_count": null,
   "id": "af87de9f",
   "metadata": {},
   "outputs": [],
   "source": [
    "#checking the data size\n",
    "df2.shape"
   ]
  },
  {
   "cell_type": "code",
   "execution_count": null,
   "id": "7d568917",
   "metadata": {},
   "outputs": [],
   "source": [
    "df2.loc[~df2['Loan Date End'].isna()][['Loan Date End', 'Contract', 'Player Status']]"
   ]
  },
  {
   "cell_type": "code",
   "execution_count": null,
   "id": "81cbf5b3",
   "metadata": {},
   "outputs": [],
   "source": [
    "#df2 = df2.reset_index(drop=True)\n",
    "df2.drop(columns=['ID','Name', 'LongName', 'Positions', 'Contract', 'playerUrl', 'photoUrl', 'Loan Date End'], inplace=True)\n",
    "df2"
   ]
  },
  {
   "cell_type": "code",
   "execution_count": null,
   "id": "d772db56",
   "metadata": {},
   "outputs": [],
   "source": [
    "#checking the data columns\n",
    "df2.columns"
   ]
  },
  {
   "cell_type": "code",
   "execution_count": null,
   "id": "4470d68c",
   "metadata": {},
   "outputs": [],
   "source": [
    "df2.rename(columns = {'W/F':'Winger/Forward',  'SM':'Skill Moves', 'A/W': 'Attacking Wing-back',   'D/W':'Defensive Wing-back', \n",
    "    'IR':'Injury Rating','PAC': 'Pace',  'SHO': 'Shooting', 'PAS':'Passing', 'DRI': 'Dribbling', \n",
    "    'DEF':'Defending', 'PHY':'Physicality', 'Release Clause': 'Release Clause(K)', 'Value':'Value(K)', \n",
    " 'Wage':'Wage(K)', 'Weights':'Weights(KG)'\n",
    "             \n",
    "}, inplace = True)"
   ]
  },
  {
   "cell_type": "code",
   "execution_count": null,
   "id": "d2782f9c",
   "metadata": {},
   "outputs": [],
   "source": [
    "df2"
   ]
  },
  {
   "cell_type": "code",
   "execution_count": null,
   "id": "965ba18e",
   "metadata": {},
   "outputs": [],
   "source": [
    "df2.info()"
   ]
  },
  {
   "cell_type": "code",
   "execution_count": null,
   "id": "e93ff8f0",
   "metadata": {},
   "outputs": [],
   "source": [
    "missing_columns = [(col, count) for col, count in df2.isna().sum().items() if count > 0]\n",
    "missing_columns"
   ]
  },
  {
   "cell_type": "code",
   "execution_count": null,
   "id": "3c326295",
   "metadata": {},
   "outputs": [],
   "source": [
    "cate_df  = df2.select_dtypes('object')\n",
    "float_df = df2.select_dtypes('float')\n",
    "int_df = df2.select_dtypes('int')"
   ]
  },
  {
   "cell_type": "code",
   "execution_count": null,
   "id": "e7c50c66",
   "metadata": {},
   "outputs": [],
   "source": [
    "#inspecting the unique values for all integer variables\n",
    "for i in int_df.columns:\n",
    "    print(i, int_df[i].unique())\n",
    "    "
   ]
  },
  {
   "cell_type": "code",
   "execution_count": null,
   "id": "6a4df34d",
   "metadata": {},
   "outputs": [],
   "source": [
    "df2.shape"
   ]
  },
  {
   "cell_type": "code",
   "execution_count": null,
   "id": "8acc2f71",
   "metadata": {},
   "outputs": [],
   "source": [
    "#drop missing values\n",
    "dfx =  df2.copy()\n",
    "dfx"
   ]
  },
  {
   "cell_type": "code",
   "execution_count": null,
   "id": "6b519125-cf27-41ec-ad38-600d4524f810",
   "metadata": {},
   "outputs": [],
   "source": [
    "#nan_index = dfx[dfx.isna().any(axis=1)].index\n",
    "#missingValue = dfx.loc[nan_index]\n",
    "#missingValue"
   ]
  },
  {
   "cell_type": "code",
   "execution_count": null,
   "id": "750c8d2c-f897-41e4-8a3a-7b36c1505ebc",
   "metadata": {},
   "outputs": [],
   "source": [
    "#missingValue.shape"
   ]
  },
  {
   "cell_type": "code",
   "execution_count": null,
   "id": "9bfed491-ca82-4d9a-8faf-21dd61e41a3b",
   "metadata": {},
   "outputs": [],
   "source": [
    "#df1 = dfx.dropna()\n",
    "#df1.isna().sum().to_dict()"
   ]
  },
  {
   "cell_type": "code",
   "execution_count": null,
   "id": "0ef684f1-a263-47ae-9f68-360bffc653b6",
   "metadata": {},
   "outputs": [],
   "source": [
    "df1 = dfx.copy()"
   ]
  },
  {
   "cell_type": "code",
   "execution_count": null,
   "id": "a7cd9151-4969-4a29-9f56-207756063910",
   "metadata": {},
   "outputs": [],
   "source": [
    "num = df1.select_dtypes('number')\n",
    "num.columns"
   ]
  },
  {
   "cell_type": "code",
   "execution_count": null,
   "id": "2e6d7084-eeaf-4450-b977-59cfad5bb49e",
   "metadata": {},
   "outputs": [],
   "source": [
    "imputer = KNNImputer(n_neighbors = 5)\n",
    "num = pd.DataFrame(imputer.fit_transform(num), columns = num.columns)\n",
    "num"
   ]
  },
  {
   "cell_type": "code",
   "execution_count": null,
   "id": "c9e679e0-bb5d-49b9-8a76-59e4ebfbe57a",
   "metadata": {},
   "outputs": [],
   "source": [
    "num.isna().sum().to_dict()"
   ]
  },
  {
   "cell_type": "code",
   "execution_count": null,
   "id": "ac3779d9-5b7b-47e2-ad16-392d3242ea8c",
   "metadata": {},
   "outputs": [],
   "source": [
    "cate = df1.select_dtypes('object')\n",
    "cate.isna().sum()"
   ]
  },
  {
   "cell_type": "code",
   "execution_count": null,
   "id": "420baa84-5efe-46b6-b47e-39b7c019a235",
   "metadata": {},
   "outputs": [],
   "source": [
    "cate['Height_cate(CM)'] = dfx['Height_cate(CM)']\n",
    "cate['Weight_cate(KG)'] = dfx['Weight_cate(KG)']\n",
    "cate['Wage_category(K)'] = dfx['Wage_category(K)']\n",
    "cate['Value_category(M)'] = dfx['Value_category(M)']\n",
    "cate['Release Clause_Category(M)'] = dfx['Release Clause_Category(M)']"
   ]
  },
  {
   "cell_type": "code",
   "execution_count": null,
   "id": "84bc8910-9d9c-4425-a4d9-974ee11b5bc8",
   "metadata": {},
   "outputs": [],
   "source": [
    "cate.isna().sum()"
   ]
  },
  {
   "cell_type": "code",
   "execution_count": null,
   "id": "ed1c2b68-c416-4ee5-bc75-1abd21720a5c",
   "metadata": {},
   "outputs": [],
   "source": [
    "simpler = SimpleImputer(strategy=\"most_frequent\")\n",
    "simpler =  simpler.fit_transform(cate)\n",
    "cate = pd.DataFrame(simpler, columns = cate.columns)\n",
    "cate"
   ]
  },
  {
   "cell_type": "code",
   "execution_count": null,
   "id": "0910333f-6899-4494-a939-874393fa04cb",
   "metadata": {},
   "outputs": [],
   "source": [
    "cate.isna().sum()"
   ]
  },
  {
   "cell_type": "code",
   "execution_count": null,
   "id": "4c63931c-d435-448c-a193-e6859048d190",
   "metadata": {},
   "outputs": [],
   "source": [
    "boolen = df1.select_dtypes('bool')\n",
    "boolen"
   ]
  },
  {
   "cell_type": "code",
   "execution_count": null,
   "id": "2f0e666c-314f-4b2a-ab09-6894e09d7b04",
   "metadata": {},
   "outputs": [],
   "source": [
    "df1 = pd.concat([num, cate, boolen], axis = 1)\n",
    "df1"
   ]
  },
  {
   "cell_type": "code",
   "execution_count": null,
   "id": "77d4644e-7ce9-4c7c-90c4-231c217839c0",
   "metadata": {},
   "outputs": [],
   "source": [
    "df1['Joined'] = dfx.Joined.values\n",
    "df1['Joined']"
   ]
  },
  {
   "cell_type": "code",
   "execution_count": null,
   "id": "a1a35f9a-3035-4003-9697-a97ca0974337",
   "metadata": {},
   "outputs": [],
   "source": [
    "df1.shape"
   ]
  },
  {
   "cell_type": "code",
   "execution_count": null,
   "id": "71313bfd-1b5f-4692-9da0-868756ac12ef",
   "metadata": {},
   "outputs": [],
   "source": [
    "dfx.shape"
   ]
  },
  {
   "cell_type": "code",
   "execution_count": null,
   "id": "f9e0ca18-e802-461d-af75-c42df35f2fce",
   "metadata": {},
   "outputs": [],
   "source": [
    "df1.columns.shape == dfx.columns.shape"
   ]
  },
  {
   "cell_type": "code",
   "execution_count": null,
   "id": "b7444bbe-231d-4f4c-b751-2a959082b284",
   "metadata": {},
   "outputs": [],
   "source": [
    "df1.isna().sum().to_dict()"
   ]
  },
  {
   "cell_type": "code",
   "execution_count": null,
   "id": "e1590085-4d23-426a-b4ca-186574118e19",
   "metadata": {},
   "outputs": [],
   "source": [
    "#Checking for duplicate\n",
    "df1.duplicated().sum()"
   ]
  },
  {
   "cell_type": "code",
   "execution_count": null,
   "id": "3075302f-fd7d-4853-b27a-561aebd71105",
   "metadata": {},
   "outputs": [],
   "source": [
    "#drop duplicate\n",
    "df1.drop_duplicates(inplace = True)"
   ]
  },
  {
   "cell_type": "code",
   "execution_count": null,
   "id": "da0f772f-559e-42ea-8200-deaef4cc7033",
   "metadata": {},
   "outputs": [],
   "source": [
    "#Checking for duplicate\n",
    "df1.columns.duplicated().sum()"
   ]
  },
  {
   "cell_type": "code",
   "execution_count": null,
   "id": "ea4e5c9b-8e27-4408-895d-4c77b32af7d2",
   "metadata": {},
   "outputs": [],
   "source": [
    "df1 = df1.loc[:, ~df1.columns.duplicated(keep='last')]"
   ]
  },
  {
   "cell_type": "code",
   "execution_count": null,
   "id": "58f00c5a-6f39-455e-b0af-970e87cab71b",
   "metadata": {},
   "outputs": [],
   "source": [
    "#Checking for duplicate\n",
    "df1.columns.duplicated().sum()"
   ]
  },
  {
   "cell_type": "code",
   "execution_count": null,
   "id": "021aed17-80d8-4722-8730-e2012d7ae4aa",
   "metadata": {},
   "outputs": [],
   "source": [
    "df1.shape"
   ]
  },
  {
   "cell_type": "code",
   "execution_count": null,
   "id": "c8d5c41e-4e51-4847-87da-504522b09fe7",
   "metadata": {},
   "outputs": [],
   "source": [
    "from matplotlib.pyplot import figure\n",
    "figure(figsize=(20, 25), dpi = 80)\n",
    "df1.plot(kind='box', subplots=True, layout=(10,7), sharex=False, sharey=False)\n",
    "plt.tight_layout()\n",
    "plt.rcParams[\"figure.figsize\"] = (10,15)\n",
    "plt.show();"
   ]
  },
  {
   "cell_type": "code",
   "execution_count": null,
   "id": "3ffce841-3f7d-4e7a-975c-16918527a9e4",
   "metadata": {},
   "outputs": [],
   "source": [
    "outliers = []\n",
    "def detect_outliers_iqr(data):\n",
    "    data = sorted(data)\n",
    "    q1 = np.percentile(data, 25)\n",
    "    q3 = np.percentile(data, 75)\n",
    "    # print(q1, q3)\n",
    "    IQR = q3-q1\n",
    "    lwr_bound = q1-(1.5*IQR)\n",
    "    upr_bound = q3+(1.5*IQR)\n",
    "    # print(lwr_bound, upr_bound)\n",
    "    for i in data: \n",
    "        if (i<lwr_bound or i>upr_bound):\n",
    "            outliers.append(i)\n",
    "    return outliers# Driver code"
   ]
  },
  {
   "cell_type": "code",
   "execution_count": null,
   "id": "d4330028-c71d-4fa7-94be-cd4d9aa950e2",
   "metadata": {},
   "outputs": [],
   "source": [
    "df1.shape"
   ]
  },
  {
   "cell_type": "code",
   "execution_count": null,
   "id": "7d0647fc-f7c8-4734-b6ae-95202839929a",
   "metadata": {},
   "outputs": [],
   "source": [
    "sample_outliers = detect_outliers_iqr(df1['Release Clause(K)'])\n",
    "df1.drop(df1[df1['Release Clause(K)'].isin(sample_outliers)].index, inplace=True)"
   ]
  },
  {
   "cell_type": "code",
   "execution_count": null,
   "id": "c8319e37-425a-41d2-a3da-a32afea234e3",
   "metadata": {},
   "outputs": [],
   "source": [
    "df1.shape"
   ]
  },
  {
   "cell_type": "code",
   "execution_count": null,
   "id": "e6252952-4635-4a1f-b023-e398e4345b96",
   "metadata": {},
   "outputs": [],
   "source": [
    "from matplotlib.pyplot import figure\n",
    "figure(figsize=(20, 25), dpi = 80)\n",
    "df1.plot(kind='box', subplots=True, layout=(10,7), sharex=False, sharey=False)\n",
    "plt.tight_layout()\n",
    "plt.rcParams[\"figure.figsize\"] = (10,15)\n",
    "plt.show();"
   ]
  },
  {
   "cell_type": "code",
   "execution_count": null,
   "id": "0d76ab97-e6f2-442a-ba1f-a92687f25b1e",
   "metadata": {},
   "outputs": [],
   "source": [
    "sample_outliers = detect_outliers_iqr(df1['Value(K)'])\n",
    "df1.drop(df1[df1['Value(K)'].isin(sample_outliers)].index, inplace=True)"
   ]
  },
  {
   "cell_type": "code",
   "execution_count": null,
   "id": "d914a5d0-920a-435e-ae79-f080720e68f0",
   "metadata": {},
   "outputs": [],
   "source": [
    "df1.shape"
   ]
  },
  {
   "cell_type": "code",
   "execution_count": null,
   "id": "3931a45c-5351-46fe-abfe-2a5bb3364144",
   "metadata": {},
   "outputs": [],
   "source": [
    "from matplotlib.pyplot import figure\n",
    "figure(figsize=(20, 25), dpi = 80)\n",
    "df1.plot(kind='box', subplots=True, layout=(10,7), sharex=False, sharey=False)\n",
    "plt.tight_layout()\n",
    "plt.rcParams[\"figure.figsize\"] = (10,15)\n",
    "plt.show();"
   ]
  },
  {
   "cell_type": "code",
   "execution_count": null,
   "id": "a4ca32ab-f362-42f8-b848-bd61bf6891e7",
   "metadata": {},
   "outputs": [],
   "source": [
    "sample_outliers = detect_outliers_iqr(df1['GK Kicking'])\n",
    "df1.drop(df1[df1['GK Kicking'].isin(sample_outliers)].index, inplace=True)"
   ]
  },
  {
   "cell_type": "code",
   "execution_count": null,
   "id": "34a17f42-c28f-4cd0-a182-9e06dd8051a2",
   "metadata": {},
   "outputs": [],
   "source": [
    "df1.shape"
   ]
  },
  {
   "cell_type": "code",
   "execution_count": null,
   "id": "475b400c-0e2f-4232-887a-8d68209ac59b",
   "metadata": {},
   "outputs": [],
   "source": [
    "from matplotlib.pyplot import figure\n",
    "figure(figsize=(20, 25), dpi = 80)\n",
    "df1.plot(kind='box', subplots=True, layout=(10,7), sharex=False, sharey=False)\n",
    "plt.tight_layout()\n",
    "plt.rcParams[\"figure.figsize\"] = (10,15)\n",
    "plt.show();"
   ]
  },
  {
   "cell_type": "code",
   "execution_count": null,
   "id": "7daeb342-458d-4c8b-9905-261fa77da87b",
   "metadata": {},
   "outputs": [],
   "source": [
    "sample_outliers = detect_outliers_iqr(df1['Wage(K)'])\n",
    "df1.drop(df1[df1['Wage(K)'].isin(sample_outliers)].index, inplace=True)"
   ]
  },
  {
   "cell_type": "code",
   "execution_count": null,
   "id": "180b509a-ef95-4071-af7a-e7f3b53edb47",
   "metadata": {},
   "outputs": [],
   "source": [
    "df1.shape"
   ]
  },
  {
   "cell_type": "code",
   "execution_count": null,
   "id": "7625cce8-2dec-4cc3-b818-0e8c34f5a965",
   "metadata": {},
   "outputs": [],
   "source": [
    "from matplotlib.pyplot import figure\n",
    "figure(figsize=(20, 25), dpi = 80)\n",
    "df1.plot(kind='box', subplots=True, layout=(10,7), sharex=False, sharey=False)\n",
    "plt.tight_layout()\n",
    "plt.rcParams[\"figure.figsize\"] = (10,15)\n",
    "plt.show();"
   ]
  },
  {
   "cell_type": "code",
   "execution_count": null,
   "id": "fd088a1b-64ac-407e-93d2-6b7e1eb83025",
   "metadata": {},
   "outputs": [],
   "source": [
    "sample_outliers = detect_outliers_iqr(df1['Hits'])\n",
    "df1.drop(df1[df1['Hits'].isin(sample_outliers)].index, inplace=True)"
   ]
  },
  {
   "cell_type": "code",
   "execution_count": null,
   "id": "50e9fa89-d362-4f0f-b6df-1aff6d39409e",
   "metadata": {},
   "outputs": [],
   "source": [
    "df1.shape"
   ]
  },
  {
   "cell_type": "code",
   "execution_count": null,
   "id": "575f782b-bd7d-4d54-b8c5-da2b72365398",
   "metadata": {},
   "outputs": [],
   "source": [
    "from matplotlib.pyplot import figure\n",
    "figure(figsize=(20, 25), dpi = 80)\n",
    "df1.plot(kind='box', subplots=True, layout=(10,7), sharex=False, sharey=False)\n",
    "plt.tight_layout()\n",
    "plt.rcParams[\"figure.figsize\"] = (10,15)\n",
    "plt.show();"
   ]
  },
  {
   "cell_type": "code",
   "execution_count": null,
   "id": "af472184-3bd7-4390-bdbb-86fc9d107c15",
   "metadata": {},
   "outputs": [],
   "source": [
    "num_type = df1.select_dtypes('number').columns\n",
    "df1[num_type].skew().to_dict()"
   ]
  },
  {
   "cell_type": "code",
   "execution_count": null,
   "id": "a81ca637-37e2-4fe7-95bd-1c31e3822b42",
   "metadata": {},
   "outputs": [],
   "source": [
    "df1[num_type]  = np.log1p(df1[num_type])"
   ]
  },
  {
   "cell_type": "code",
   "execution_count": null,
   "id": "c87e3d22-8c69-4040-bd9f-98d34f551cc0",
   "metadata": {},
   "outputs": [],
   "source": [
    "df1[num_type].skew().to_dict()"
   ]
  },
  {
   "cell_type": "markdown",
   "id": "2aa7af36-b360-46e9-93ac-3aaaca63ee62",
   "metadata": {},
   "source": [
    "## Data Preprocessing\n",
    "### Encoding"
   ]
  },
  {
   "cell_type": "code",
   "execution_count": null,
   "id": "33bd50fd-5d5b-4bfc-8799-25ea2d2a6ad0",
   "metadata": {},
   "outputs": [],
   "source": [
    "df1.columns"
   ]
  },
  {
   "cell_type": "code",
   "execution_count": null,
   "id": "7518549c-ccb3-44d6-a26f-cfde74d7a498",
   "metadata": {},
   "outputs": [],
   "source": [
    "df1.select_dtypes('object').columns"
   ]
  },
  {
   "cell_type": "code",
   "execution_count": null,
   "id": "cbb82110-3985-4e52-9c8a-bef6ff516134",
   "metadata": {},
   "outputs": [],
   "source": [
    "for i in df1.select_dtypes('object').columns:\n",
    "    print(i, df1[i].unique())\n"
   ]
  },
  {
   "cell_type": "code",
   "execution_count": null,
   "id": "8f45660e-9228-484f-aa71-00528baf98c4",
   "metadata": {},
   "outputs": [],
   "source": [
    "Norminal = ['Nationality','Club','Best Position', 'PlayerName', 'Player Status' ]\n",
    "Ordinal = ['Attacking Wing-back', 'Defensive Wing-back', 'Height_cate(CM)', 'Weight_cate(KG)']\n",
    "Binary = ['ST', 'RW', 'CDM', 'LW', 'CB', 'LWB', 'GK', 'CAM', 'CF', 'RB', 'LM',\n",
    "       'CM', 'LB', 'RM', 'RWB']"
   ]
  },
  {
   "cell_type": "code",
   "execution_count": null,
   "id": "65c6552c-325b-47f9-bcd2-6eb6ae44b0eb",
   "metadata": {},
   "outputs": [],
   "source": [
    "# Initialize the OrdinalEncoder\n",
    "ordinal_encoder = OrdinalEncoder()\n",
    "\n",
    "# Fit and transform the selected columns\n",
    "df1[Ordinal] = ordinal_encoder.fit_transform(df1[Ordinal])\n"
   ]
  },
  {
   "cell_type": "code",
   "execution_count": null,
   "id": "b09dc674-cda3-4c04-9a4b-386380a3cae9",
   "metadata": {},
   "outputs": [],
   "source": [
    "df1[Ordinal]"
   ]
  },
  {
   "cell_type": "code",
   "execution_count": null,
   "id": "6775392f-a12c-42b9-af85-c48fa04c8519",
   "metadata": {},
   "outputs": [],
   "source": [
    "# Initialize the LabelEncoder\n",
    "label_encoder = LabelEncoder()\n",
    "\n",
    "# Encode the categorical columns\n",
    "for column in Norminal:\n",
    "    df1[column] = label_encoder.fit_transform(df1[column])"
   ]
  },
  {
   "cell_type": "code",
   "execution_count": null,
   "id": "79b8103a-21a7-419f-8122-59adc11de6f1",
   "metadata": {},
   "outputs": [],
   "source": [
    "df1[Norminal]"
   ]
  },
  {
   "cell_type": "code",
   "execution_count": null,
   "id": "a9de1e75-94a4-4a40-a3b0-f0b7efbd9c98",
   "metadata": {},
   "outputs": [],
   "source": [
    "# Initialize the Binarizer\n",
    "binarizer = LabelBinarizer()\n",
    "df1[Binary] = binarizer.fit_transform(df1[Binary])\n",
    "# Binarize the \"Preferred Foot\" column\n",
    "df1['Preferred Foot'] = binarizer.fit_transform(df1['Preferred Foot'])"
   ]
  },
  {
   "cell_type": "code",
   "execution_count": null,
   "id": "98e10ba9-becb-46a5-9465-b5e2a75e749b",
   "metadata": {},
   "outputs": [],
   "source": [
    "df1[Binary]"
   ]
  },
  {
   "cell_type": "code",
   "execution_count": null,
   "id": "4ca60162-9b99-42c6-907e-198a31eb696e",
   "metadata": {},
   "outputs": [],
   "source": [
    "df1['Joined'].min()"
   ]
  },
  {
   "cell_type": "code",
   "execution_count": null,
   "id": "7d86b38e-4736-4388-b184-194a8e1a6719",
   "metadata": {},
   "outputs": [],
   "source": [
    "# Define the reference date\n",
    "import datetime\n",
    "reference_date = datetime.datetime(2002, 1, 1)\n",
    "\n",
    "# Calculate the elapsed time in days\n",
    "df1['Elapsed_Days'] = (df1['Joined'] - reference_date).dt.days\n"
   ]
  },
  {
   "cell_type": "code",
   "execution_count": null,
   "id": "90429087-ffa6-475e-887a-8eea4711bb8c",
   "metadata": {},
   "outputs": [],
   "source": [
    "df1['Elapsed_Days']"
   ]
  },
  {
   "cell_type": "code",
   "execution_count": null,
   "id": "001d6963-ef6d-437f-9591-bf24776f2afa",
   "metadata": {},
   "outputs": [],
   "source": [
    "df1.drop(columns = ['Wage_category(K)', 'Value_category(M)',\n",
    "       'Release Clause_Category(M)', 'Joined'], inplace = True)"
   ]
  },
  {
   "cell_type": "code",
   "execution_count": null,
   "id": "0c75e69e-701c-49b8-ba01-ca480da6fbb1",
   "metadata": {},
   "outputs": [],
   "source": [
    "df1"
   ]
  },
  {
   "cell_type": "code",
   "execution_count": null,
   "id": "bb3134b2-13a7-456b-882a-e4120f606a00",
   "metadata": {},
   "outputs": [],
   "source": [
    "feature = [f for f in df1.columns if f != 'Hits']\n",
    "target =  [t for t in df1.columns if t == 'Hits']"
   ]
  },
  {
   "cell_type": "code",
   "execution_count": null,
   "id": "897a8691-5171-4482-80b4-1609f418c212",
   "metadata": {},
   "outputs": [],
   "source": [
    "X = df1[feature].values\n",
    "X"
   ]
  },
  {
   "cell_type": "code",
   "execution_count": null,
   "id": "167a1307-1016-43b0-8709-56332da6876f",
   "metadata": {},
   "outputs": [],
   "source": [
    "y = df1[target].values\n",
    "y"
   ]
  },
  {
   "cell_type": "code",
   "execution_count": null,
   "id": "9fa7017a-2af4-427a-a861-866fa4be4aa7",
   "metadata": {},
   "outputs": [],
   "source": [
    "X_train, X_test, y_train, y_test = train_test_split(X, y,\n",
    "test_size= 0.20, random_state=7)"
   ]
  },
  {
   "cell_type": "code",
   "execution_count": null,
   "id": "e81c1890-37f8-494a-a5cd-ada2597f53e1",
   "metadata": {},
   "outputs": [],
   "source": [
    "X_train_df = pd.DataFrame(X_train, columns=feature)\n",
    "X_train_df"
   ]
  },
  {
   "cell_type": "code",
   "execution_count": null,
   "id": "e7cc571d-0cae-4f63-bfb8-6fb89217eb1f",
   "metadata": {},
   "outputs": [],
   "source": [
    "X_train_df.describe().T"
   ]
  },
  {
   "cell_type": "code",
   "execution_count": null,
   "id": "c26ccbd6-06b7-48dd-b8fa-e4d5ad3ead5e",
   "metadata": {},
   "outputs": [],
   "source": [
    "#initiation\n",
    "scaler = MinMaxScaler(feature_range = (0,1)).fit(X_train_df)\n",
    "R_Xtrain_df = scaler.transform(X_train_df)\n",
    "R_Xtest_df = scaler.transform(X_test)"
   ]
  },
  {
   "cell_type": "code",
   "execution_count": null,
   "id": "3061f167-eb19-4593-bd62-c7629bef841a",
   "metadata": {},
   "outputs": [],
   "source": [
    "R_Xtrain_df = pd.DataFrame(R_Xtrain_df, columns = feature)\n",
    "R_Xtrain_df.describe().T"
   ]
  },
  {
   "cell_type": "code",
   "execution_count": null,
   "id": "db9adaa2-ca79-4b56-b49c-8bf1203f4335",
   "metadata": {},
   "outputs": [],
   "source": [
    "#instantiate\n",
    "scaler = Normalizer().fit(R_Xtrain_df)\n",
    "NR_Xtrain_df = scaler.transform(R_Xtrain_df)\n",
    "NR_Xtest_df = scaler.transform(R_Xtest_df)"
   ]
  },
  {
   "cell_type": "code",
   "execution_count": null,
   "id": "1ec2b7f0-fe8c-4bc2-b895-1fac5b11735a",
   "metadata": {},
   "outputs": [],
   "source": [
    "NR_Xtrain_df = pd.DataFrame(NR_Xtrain_df, columns = feature)\n",
    "NR_Xtrain_df.describe().T"
   ]
  },
  {
   "cell_type": "code",
   "execution_count": null,
   "id": "e3200b0c-6f88-4512-9b84-484e915843fa",
   "metadata": {},
   "outputs": [],
   "source": [
    "NR_Xtest_df = pd.DataFrame(NR_Xtest_df, columns = feature)\n",
    "NR_Xtest_df.describe().T"
   ]
  },
  {
   "cell_type": "markdown",
   "id": "e18274fc-2d85-46bb-bf6c-246a2ed84b52",
   "metadata": {},
   "source": [
    "## Features Selection\n",
    "### Multicolinearity"
   ]
  },
  {
   "cell_type": "code",
   "execution_count": null,
   "id": "6a4646d9-93c7-42fa-baec-0d6eb31c3785",
   "metadata": {},
   "outputs": [],
   "source": [
    "NR_Xtrain_df['Hits'] = y_train"
   ]
  },
  {
   "cell_type": "code",
   "execution_count": null,
   "id": "0b093e62-c0ae-435e-9772-bdefa2ef6a45",
   "metadata": {},
   "outputs": [],
   "source": [
    "NR_Xtrain_df.columns"
   ]
  },
  {
   "cell_type": "code",
   "execution_count": null,
   "id": "54c993e4-1bcb-4d22-8b47-583e3789cd1f",
   "metadata": {},
   "outputs": [],
   "source": [
    "remove_column = ['Interceptions','Mentality','Curve','Agility','Acceleration', 'Sprint Speed','Base Stats', 'Marking', 'Standing Tackle',\n",
    "       'Sliding Tackle''↓OVA','Height_cate(cm)',\n",
    "       'Weight_cate(kg)','DRI', 'DEF','PAS','PHY', 'SHO', 'PAC','Height','Skill', 'Dribbling']"
   ]
  },
  {
   "cell_type": "code",
   "execution_count": null,
   "id": "37c59845-d143-4a6d-ade8-6fbf252cf539",
   "metadata": {},
   "outputs": [],
   "source": [
    "skill = [ 'Heading Accuracy','Crossing', 'Stamina','Strength','Reactions', 'Balance','Power', 'Shot Power', 'Total Stats', \n",
    "      'Ball Control','Aggression', 'Defending', 'Positioning', 'Vision', 'Weight', \n",
    "       'Penalties', 'Composure', 'Preferred Foot','Volleys', 'Player Status','Winger/Forward', 'Skill Moves', \n",
    "         'Injury Rating', 'Nationality',  'GK', 'Elapsed_Days','Goalkeeping', 'GK Diving', 'GK Handling', 'GK Kicking', 'GK Positioning', \n",
    "         'GK Reflexes', 'Movement',\n",
    "       'Attacking Wing-back','Defensive Wing-back','PlayerName', 'POT','BOV', 'Value(K)', 'Wage(K)', 'Age','Club',  'RM', 'ST', 'RB', 'LM', 'LW', 'CB', 'RWB', 'LWB', \n",
    "      'CAM', 'CM', 'CF', 'RW', 'LB', 'CDM','Hits']"
   ]
  },
  {
   "cell_type": "code",
   "execution_count": null,
   "id": "06a1c427-27ba-4803-aa1e-99d0100c59cd",
   "metadata": {},
   "outputs": [],
   "source": [
    "corr = NR_Xtrain_df[skill].corr()\n",
    "plt.figure(figsize=(35, 15))\n",
    "sb.heatmap(corr, annot=True, cmap=\"YlGnBu\", vmin=-1, vmax=1, fmt=\".2f\", mask=np.triu(np.ones_like(corr, dtype=bool)))"
   ]
  },
  {
   "cell_type": "code",
   "execution_count": null,
   "id": "7c443308-40f5-409e-929a-da6221afc5e1",
   "metadata": {},
   "outputs": [],
   "source": [
    "NR_Xtrain_df = NR_Xtrain_df[skill]\n",
    "NR_Xtrain_df = NR_Xtrain_df.drop(columns = 'Hits')"
   ]
  },
  {
   "cell_type": "code",
   "execution_count": null,
   "id": "dbc040d3-b035-455d-9c0f-7d50801a5be3",
   "metadata": {},
   "outputs": [],
   "source": [
    "NR_Xtrain_df.shape"
   ]
  },
  {
   "cell_type": "code",
   "execution_count": null,
   "id": "02e2a83e-4e6c-449c-be10-3325ae876437",
   "metadata": {},
   "outputs": [],
   "source": [
    "from sklearn.feature_selection import RFE\n",
    "from sklearn.linear_model import LinearRegression\n",
    "X = NR_Xtrain_df.values\n",
    "Y = y_train\n",
    "model = LinearRegression() \n",
    "rfe = RFE(model, n_features_to_select=17)\n",
    "fit = rfe.fit(X,Y) \n",
    "print(fit.support_)\n",
    "print(fit.ranking_)"
   ]
  },
  {
   "cell_type": "code",
   "execution_count": null,
   "id": "bc381b48-a787-41f5-98f6-371c35500f15",
   "metadata": {},
   "outputs": [],
   "source": [
    "RFE_ = [name for name, value in zip(NR_Xtrain_df.columns, fit.ranking_) if value == 1]\n",
    "len(RFE_)"
   ]
  },
  {
   "cell_type": "code",
   "execution_count": null,
   "id": "fd5cbb8a-38c9-40e1-afe1-c0c2d88a246c",
   "metadata": {},
   "outputs": [],
   "source": [
    "NR_Xtrain_df.columns"
   ]
  },
  {
   "cell_type": "code",
   "execution_count": null,
   "id": "34c86606-2cba-4568-a9c9-ed2405172587",
   "metadata": {},
   "outputs": [],
   "source": [
    "X_train = NR_Xtrain_df[RFE_].values"
   ]
  },
  {
   "cell_type": "code",
   "execution_count": null,
   "id": "21ff3543-f844-4191-bd16-2d8a6e023786",
   "metadata": {},
   "outputs": [],
   "source": [
    "X_testdf = pd.DataFrame(NR_Xtest_df, columns = feature)\n",
    "X_test = X_testdf[RFE_].values"
   ]
  },
  {
   "cell_type": "code",
   "execution_count": null,
   "id": "2ea9f36c-05b5-471c-a896-84187ba78260",
   "metadata": {},
   "outputs": [],
   "source": [
    "# Spot-Check Algorithms\n",
    "models = []\n",
    "models.append(('LR', LinearRegression()))\n",
    "models.append(('Ridge', Ridge()))\n",
    "models.append(('Lasso', Lasso()))\n",
    "models.append(('KNN', KNeighborsRegressor()))\n",
    "models.append(('CART', DecisionTreeRegressor()))\n",
    "models.append(('RF', RandomForestRegressor()))\n",
    "models.append(('SVM', SVR()))\n",
    "\n",
    "# Evaluate each model in turn\n",
    "results = []\n",
    "names = []\n",
    "for name, model in models:\n",
    "    kfold = KFold(n_splits=10, random_state= None)\n",
    "    cv_results = cross_val_score(model, X_train, y_train, cv=kfold, scoring='neg_mean_absolute_error')\n",
    "    results.append(cv_results)\n",
    "    names.append(name)"
   ]
  },
  {
   "cell_type": "code",
   "execution_count": null,
   "id": "2e84faba-871d-4cdf-a40c-e04e48f7aafd",
   "metadata": {},
   "outputs": [],
   "source": [
    "# Display results\n",
    "for i in range(len(names)):\n",
    "    print(f\"{names[i]}: Mean MAE: {abs(results[i]).mean()}, Standard Deviation: {results[i].std()}\")"
   ]
  },
  {
   "cell_type": "code",
   "execution_count": null,
   "id": "a91a1c8f-11b7-47f6-ab53-261b9b045f3c",
   "metadata": {},
   "outputs": [],
   "source": [
    "#Instantiate\n",
    "model = SVR()\n",
    "model.fit(X_train, y_train)\n",
    "# evaluate the model\n",
    "y_predict = model.predict(X_test)"
   ]
  },
  {
   "cell_type": "code",
   "execution_count": null,
   "id": "1fd07972-f1c4-4245-b7fc-762e322e5166",
   "metadata": {},
   "outputs": [],
   "source": [
    "mae = mean_absolute_error(y_test, y_predict)\n",
    "mae"
   ]
  },
  {
   "cell_type": "code",
   "execution_count": null,
   "id": "4def36ed-dd7e-496b-aa97-a7afea9e9f5f",
   "metadata": {},
   "outputs": [],
   "source": [
    "y_test_predict_df = pd.DataFrame(y_test, columns = ['y_test'])"
   ]
  },
  {
   "cell_type": "code",
   "execution_count": null,
   "id": "d64b936a-7d25-4f29-a17c-33cee2e7723e",
   "metadata": {},
   "outputs": [],
   "source": [
    "y_test_predict_df['y_predict'] = y_predict\n",
    "y_test_predict_df.sample(30)"
   ]
  },
  {
   "cell_type": "markdown",
   "id": "a4322350-8896-4292-bbca-f48beef19691",
   "metadata": {},
   "source": [
    "## Communicating Result"
   ]
  },
  {
   "cell_type": "markdown",
   "id": "5cf36997-48ec-4c6d-837c-564bb8e8c156",
   "metadata": {},
   "source": [
    "### Result deployment"
   ]
  },
  {
   "cell_type": "code",
   "execution_count": null,
   "id": "dc4945c5-122d-4c3c-92c7-4ed46a2631b9",
   "metadata": {},
   "outputs": [],
   "source": [
    "def make_prediction(Reactions, Total_Stats, Ball_Control, Defending, Vision, Player_Status,Injury_Rating, Goalkeeping, GK_Diving,\n",
    "GK_Handling, GK_Kicking, GK_Positioning, GK_Reflexes, POT, BOV, Wage, Age):\n",
    "    data = {\n",
    "        'Reactions' : Reactions,\n",
    "        'Total Stats': Total_Stats,\n",
    "        'Ball Control': Ball_Control, \n",
    "        'Defending' : Defending,\n",
    "        'Vision': Vision,\n",
    "        'Player Status': Player_Status,\n",
    "        'Injury Rating': Injury_Rating,\n",
    "        'Goalkeeping' :  Goalkeeping,\n",
    "        'GK Diving': GK_Diving,\n",
    "        'GK Handling': GK_Handling, \n",
    "        'GK Kicking' : GK_Kicking,\n",
    "        'GK Positioning': GK_Positioning,\n",
    "        'GK Reflexes': GK_Reflexes,\n",
    "        'POT': POT,\n",
    "        'BOV' : BOV,\n",
    "        'Wage(K)': Wage,\n",
    "        'Age': Age\n",
    "        \n",
    "    }\n",
    "    df = pd.DataFrame(data, index = [0])\n",
    "    prediction =model.predict(df).round(2)[0] \n",
    "    return f\" hit that a player will make: {prediction}\""
   ]
  },
  {
   "cell_type": "code",
   "execution_count": null,
   "id": "55b469d7-851b-4460-a029-9b69ad46501b",
   "metadata": {},
   "outputs": [],
   "source": [
    "make_prediction(5, 1, 3, 777, 1144, 42, 13,8,9,80,12,65,12,45,21,13,14)"
   ]
  },
  {
   "cell_type": "code",
   "execution_count": null,
   "id": "41b4f786-d537-4029-bd2e-af323f985687",
   "metadata": {},
   "outputs": [],
   "source": []
  }
 ],
 "metadata": {
  "kernelspec": {
   "display_name": "Python 3 (ipykernel)",
   "language": "python",
   "name": "python3"
  },
  "language_info": {
   "codemirror_mode": {
    "name": "ipython",
    "version": 3
   },
   "file_extension": ".py",
   "mimetype": "text/x-python",
   "name": "python",
   "nbconvert_exporter": "python",
   "pygments_lexer": "ipython3",
   "version": "3.10.9"
  }
 },
 "nbformat": 4,
 "nbformat_minor": 5
}
